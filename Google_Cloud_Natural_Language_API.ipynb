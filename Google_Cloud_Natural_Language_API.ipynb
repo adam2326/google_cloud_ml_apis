{
 "cells": [
  {
   "cell_type": "code",
   "execution_count": null,
   "metadata": {
    "collapsed": true
   },
   "outputs": [],
   "source": [
    "# if you don't have it already: $ pip install --upgrade google-api-python-client\n",
    "# also follow [1. a-g] here: https://developers.google.com/identity/protocols/application-default-credentials#howtheywork\n",
    "from googleapiclient import discovery\n",
    "import httplib2\n",
    "from oauth2client.client import GoogleCredentials\n",
    "import os\n",
    "\n",
    "os.environ['GOOGLE_APPLICATION_CREDENTIALS']  =  os.path.expanduser(\"~/my_key_from_google.json\")\n",
    "\n",
    "DISCOVERY_URL = ('https://{api}.googleapis.com/'\n",
    "                '$discovery/rest?version={apiVersion}')\n",
    "\n",
    "http = httplib2.Http()\n",
    "\n",
    "credentials = GoogleCredentials.get_application_default().create_scoped(\n",
    " ['https://www.googleapis.com/auth/cloud-platform'])\n",
    "\n",
    "http=httplib2.Http()\n",
    "credentials.authorize(http)\n",
    "\n",
    "service = discovery.build('language', 'v1beta2', # need 2 for analyzeEntitySentiment\n",
    "                       http=http, discoveryServiceUrl=DISCOVERY_URL)\n",
    "documents = service.documents()"
   ]
  },
  {
   "cell_type": "code",
   "execution_count": null,
   "metadata": {
    "collapsed": true
   },
   "outputs": [],
   "source": [
    "# Syntax Analysis\n",
    "service_request = documents.analyzeSyntax(\n",
    "body={\n",
    " 'document': {\n",
    "    'type': 'PLAIN_TEXT',\n",
    "    'content': sent\n",
    " }\n",
    "})\n",
    "\n",
    "response = service_request.execute()\n",
    "\n",
    "for token in response['tokens']:\n",
    "    print(\"{} -> {} -> {} \".format(token['text']['content'],\n",
    "                                  token['partOfSpeech']['tag'],\n",
    "                                  token['partOfSpeech']['mood']))  #,\n",
    "                                  #token['partOfSpeech']['voice']))"
   ]
  },
  {
   "cell_type": "code",
   "execution_count": null,
   "metadata": {
    "collapsed": true
   },
   "outputs": [],
   "source": [
    "# Sentiment Analysis\n",
    "service_request = documents.analyzeSentiment(\n",
    "body={\n",
    " 'document': {\n",
    "    'type': 'PLAIN_TEXT',\n",
    "    'content': sent\n",
    " }\n",
    "})\n",
    "result = service_request.execute()\n",
    "print(\"*Overall sentiment: {}\".format(result['documentSentiment']))\n",
    "for sentence in result['sentences']:\n",
    "    print(\"{} -> {}\".format(sentence['text']['content'], sentence['sentiment']))"
   ]
  },
  {
   "cell_type": "code",
   "execution_count": null,
   "metadata": {
    "collapsed": true
   },
   "outputs": [],
   "source": [
    "# Entity Sentiment Analysis\n",
    "service_request = documents.analyzeEntitySentiment(\n",
    "body={\n",
    " 'document': {\n",
    "    'type': 'PLAIN_TEXT',\n",
    "    'content': sent\n",
    " }\n",
    "})\n",
    "for entry in service_request.execute()['entities']:\n",
    "    print(\"{}: '{}' {}\".format(entry['type'], entry['name'], entry['sentiment']))"
   ]
  }
 ],
 "metadata": {
  "kernelspec": {
   "display_name": "Python 2",
   "language": "python",
   "name": "python2"
  },
  "language_info": {
   "codemirror_mode": {
    "name": "ipython",
    "version": 2
   },
   "file_extension": ".py",
   "mimetype": "text/x-python",
   "name": "python",
   "nbconvert_exporter": "python",
   "pygments_lexer": "ipython2",
   "version": "2.7.13"
  }
 },
 "nbformat": 4,
 "nbformat_minor": 2
}
