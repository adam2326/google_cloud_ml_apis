{
 "cells": [
  {
   "cell_type": "code",
   "execution_count": 1,
   "metadata": {
    "collapsed": true
   },
   "outputs": [],
   "source": [
    "# imports\n",
    "from enum import Enum\n",
    "from googleapiclient.discovery import build\n",
    "import google.datalab.storage as storage\n",
    "from PIL import Image, ImageDraw\n",
    "from StringIO import StringIO"
   ]
  },
  {
   "cell_type": "code",
   "execution_count": 171,
   "metadata": {
    "collapsed": true
   },
   "outputs": [],
   "source": [
    "#imports\n",
    "from IPython.display import HTML\n",
    "#from io import BytesIO\n",
    "from base64 import b64encode\n",
    "from PIL import Image"
   ]
  },
  {
   "cell_type": "code",
   "execution_count": null,
   "metadata": {
    "collapsed": true
   },
   "outputs": [],
   "source": [
    "# API key\n",
    "APIKEY=\"IzaSyDvN7_zfln0Mrxx0MWWoJGeGbWqasQiinc\""
   ]
  },
  {
   "cell_type": "code",
   "execution_count": 2,
   "metadata": {
    "collapsed": true
   },
   "outputs": [],
   "source": [
    "############################################################################################### \n",
    "#\n",
    "#  generate functionality\n",
    "#\n",
    "############################################################################################### \n",
    "class FeatureType(Enum):\n",
    "    PAGE = 1\n",
    "    BLOCK = 2\n",
    "    PARA = 3\n",
    "    WORD = 4\n",
    "    SYMBOL = 5"
   ]
  },
  {
   "cell_type": "code",
   "execution_count": 103,
   "metadata": {
    "collapsed": true
   },
   "outputs": [],
   "source": [
    "def draw_boxes(image, blocks, color):\n",
    "    \"\"\"Draw a border around the image using the hints in the vector list.\"\"\"\n",
    "    draw = ImageDraw.Draw(image)\n",
    "\n",
    "    for block in bounds:\n",
    "      # positions might not be correctly stated\n",
    "      one = block['vertices'][0]['x'], block['vertices'][0]['y']\n",
    "      two = block['vertices'][1]['x'], block['vertices'][1]['y']\n",
    "      three = block['vertices'][2]['x'], block['vertices'][2]['y']\n",
    "      four = block['vertices'][3]['x'], block['vertices'][3]['y']\n",
    "      draw.polygon([one, two, three, four], None, color)\n",
    "    return image"
   ]
  },
  {
   "cell_type": "code",
   "execution_count": 83,
   "metadata": {
    "collapsed": true
   },
   "outputs": [],
   "source": [
    "def get_document_bounds(pages, feature):    \n",
    "  bounds = []\n",
    "  feature = FeatureType.BLOCK\n",
    "  for page in pages:\n",
    "    for block in page['blocks']:\n",
    "      for paragraph in block['paragraphs']:\n",
    "        for word in paragraph['words']:\n",
    "          for symbol in word['symbols']:\n",
    "            if (feature == FeatureType.SYMBOL):\n",
    "              bounds.append(symbol['bounding_box'])\n",
    "          if (feature == FeatureType.WORD):\n",
    "            bounds.append(word['boundingBox'])\n",
    "        if (feature == FeatureType.PARA):\n",
    "            bounds.append(paragraph['boundingBox'])\n",
    "      if (feature == FeatureType.BLOCK):\n",
    "          bounds.append(block['boundingBox'])\n",
    "    if (feature == FeatureType.PAGE):\n",
    "        bounds.append(block['boundingBox'])\n",
    "  return bounds"
   ]
  },
  {
   "cell_type": "code",
   "execution_count": 190,
   "metadata": {
    "collapsed": false
   },
   "outputs": [],
   "source": [
    "def render_doc_text(pages, img_data_in, img_data_out):\n",
    "  out_image = Image.open( StringIO(img_data_in.read_stream()) )\n",
    "  \n",
    "  # iterate through its features\n",
    "  bounds = get_document_bounds(pages, FeatureType.PAGE)\n",
    "  draw_boxes(out_image, bounds, 'blue')\n",
    "\n",
    "  bounds = get_document_bounds(pages, FeatureType.PARA)\n",
    "  draw_boxes(out_image, bounds, 'red')\n",
    "\n",
    "  bounds = get_document_bounds(pages, FeatureType.WORD)\n",
    "  draw_boxes(out_image, bounds, 'yellow')\n",
    "  \n",
    "  my_file = StringIO()\n",
    "  out_image.save('one.png', \"PNG\")\n",
    "  #img_data_out.write_stream(b64encode(my_file.getvalue()).decode('utf-8')), 'text/plain')"
   ]
  },
  {
   "cell_type": "code",
   "execution_count": 90,
   "metadata": {
    "collapsed": true
   },
   "outputs": [],
   "source": [
    "def make_api_call(image):\n",
    "    vservice = build('vision', 'v1', developerKey=APIKEY)\n",
    "    request = vservice.images().annotate(body={\n",
    "            'requests': [{\n",
    "                    'image': {\n",
    "                        'source': {\n",
    "                            'imageUri': image\n",
    "                        }\n",
    "                    },\n",
    "                    'features': [{\n",
    "                        'type': 'DOCUMENT_TEXT_DETECTION',\n",
    "                        'maxResults': 1,\n",
    "                    }]\n",
    "                }],\n",
    "            })\n",
    "    responses = request.execute(num_retries=3)\n",
    "    return responses['responses'][0]['fullTextAnnotation']['pages']"
   ]
  },
  {
   "cell_type": "code",
   "execution_count": 114,
   "metadata": {
    "collapsed": true
   },
   "outputs": [],
   "source": [
    "# manipulate file names to create in and out file\n",
    "def return_file_names(image):\n",
    "  in_file = \"gs://machine-learning-backend-storagebucket/\" + image\n",
    "  img_out = image.rsplit('/',1)[0] + \"/output/\" + image.rsplit('/',1)[1] + \"_bound_box.png\"\n",
    "  img_in = image\n",
    "  return in_file, img_out, img_in"
   ]
  },
  {
   "cell_type": "code",
   "execution_count": null,
   "metadata": {
    "collapsed": true
   },
   "outputs": [],
   "source": [
    "############################################################################################### \n",
    "#\n",
    "#  separater\n",
    "#\n",
    "############################################################################################### "
   ]
  },
  {
   "cell_type": "code",
   "execution_count": null,
   "metadata": {
    "collapsed": false
   },
   "outputs": [],
   "source": [
    "############################################################################################### \n",
    "#\n",
    "#  Start document markup\n",
    "#\n",
    "############################################################################################### \n",
    "# select the storage bucket object you want\n",
    "images = list()\n",
    "my_bucket = storage.Bucket('machine-learning-backend-storagebucket')\n",
    "for obj in my_bucket.objects():\n",
    "  if obj.key.find(\"Oxygen\") > -1 and obj.key.find(\".txt\") == -1:\n",
    "    images.append(obj.key)"
   ]
  },
  {
   "cell_type": "code",
   "execution_count": 191,
   "metadata": {
    "collapsed": false
   },
   "outputs": [],
   "source": [
    "for image in images[1:2]:\n",
    "  # create in and out names\n",
    "  filein, img_out, img_in = return_file_names(image)\n",
    "  \n",
    "  # open the input image file\n",
    "  img_data_in  = my_bucket.object(img_in)\n",
    "  img_data_out = my_bucket.object(img_out)\n",
    "  \n",
    "  # call the API\n",
    "  pages = make_api_call(filein)\n",
    "  \n",
    "  # render the document\n",
    "  render_doc_text(pages, img_data_in, img_data_out)"
   ]
  },
  {
   "cell_type": "code",
   "execution_count": 170,
   "metadata": {
    "collapsed": false
   },
   "outputs": [
    {
     "name": "stdout",
     "output_type": "stream",
     "text": [
      "gs://machine-learning-backend-storagebucket/sas_data/HLS/Oxygen_Case_1_02.png\n",
      "sas_data/HLS/output/Oxygen_Case_1_02.png_bound_box.png\n",
      "sas_data/HLS/Oxygen_Case_1_02.png\n",
      "Google Cloud Storage Object gs://machine-learning-backend-storagebucket/sas_data/HLS/Oxygen_Case_1_02.png\n",
      "Google Cloud Storage Object gs://machine-learning-backend-storagebucket/sas_data/HLS/output/Oxygen_Case_1_02.png_bound_box.png\n"
     ]
    }
   ],
   "source": [
    "print filein\n",
    "print img_out\n",
    "print img_in\n",
    "print img_data_in\n",
    "print img_data_out"
   ]
  }
 ],
 "metadata": {
  "kernelspec": {
   "display_name": "Python 2",
   "language": "python",
   "name": "python2"
  },
  "language_info": {
   "codemirror_mode": {
    "name": "ipython",
    "version": 2
   },
   "file_extension": ".py",
   "mimetype": "text/x-python",
   "name": "python",
   "nbconvert_exporter": "python",
   "pygments_lexer": "ipython2",
   "version": "2.7.9"
  }
 },
 "nbformat": 4,
 "nbformat_minor": 2
}
