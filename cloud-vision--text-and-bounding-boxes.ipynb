{
 "cells": [
  {
   "cell_type": "code",
   "execution_count": 1,
   "metadata": {
    "collapsed": true
   },
   "outputs": [],
   "source": [
    "# imports\n",
    "import requests\n",
    "from googleapiclient.discovery import build\n",
    "import google.datalab.storage as storage\n",
    "from PIL import Image, ImageDraw\n",
    "from StringIO import StringIO\n",
    "from io import BytesIO\n",
    "import base64"
   ]
  },
  {
   "cell_type": "code",
   "execution_count": 171,
   "metadata": {
    "collapsed": true
   },
   "outputs": [],
   "source": [
    "#imports after the fact"
   ]
  },
  {
   "cell_type": "code",
   "execution_count": 2,
   "metadata": {
    "collapsed": true
   },
   "outputs": [],
   "source": [
    "# API key\n",
    "APIKEY=\"IzaSyDvN7_zfln0Mrxx0MWWoJGeGbWqasQiinc\""
   ]
  },
  {
   "cell_type": "code",
   "execution_count": null,
   "metadata": {
    "collapsed": true
   },
   "outputs": [],
   "source": [
    "############################################################################################### \n",
    "#\n",
    "#  NOTE - the only thing to customize is the names below; after the files are written\n",
    "#   back to a cloud storage bucket; they will need to be decoded to be viewed\n",
    "#\n",
    "###############################################################################################"
   ]
  },
  {
   "cell_type": "code",
   "execution_count": 81,
   "metadata": {
    "collapsed": true
   },
   "outputs": [],
   "source": [
    "# manipulate file names to create in and out file\n",
    "def return_file_names(image):\n",
    "    in_file = \"gs://machine-learning-backend-storagebucket/\" + image\n",
    "    img_out = image.rsplit('/',1)[0] + \"/output/\" + image.rsplit('/',1)[1] + \"_bound_box.png\"\n",
    "    text_out = image.rsplit('/',1)[0] + \"/output/\" + image.rsplit('/',1)[1] + \"_text.txt\"\n",
    "    img_in = image\n",
    "    return in_file, img_out, img_in, text_out"
   ]
  },
  {
   "cell_type": "code",
   "execution_count": 82,
   "metadata": {
    "collapsed": true
   },
   "outputs": [],
   "source": [
    "def make_api_call(image):\n",
    "    vservice = build('vision', 'v1', developerKey=APIKEY)\n",
    "    request = vservice.images().annotate(body={\n",
    "            'requests': [{\n",
    "                    'image': {\n",
    "                        'source': {\n",
    "                            'imageUri': image\n",
    "                        }\n",
    "                    },\n",
    "                    'features': [{\n",
    "                        'type': 'DOCUMENT_TEXT_DETECTION',\n",
    "                        'maxResults': 1,\n",
    "                    }]\n",
    "                }],\n",
    "            })\n",
    "    responses = request.execute(num_retries=3)\n",
    "    pages = responses['responses'][0]['fullTextAnnotation']['pages']\n",
    "    text = responses['responses'][0]['fullTextAnnotation']['text']\n",
    "    return pages, text"
   ]
  },
  {
   "cell_type": "code",
   "execution_count": 62,
   "metadata": {
    "collapsed": true
   },
   "outputs": [],
   "source": [
    "def draw_boxes(image, blocks, color):\n",
    "    \"\"\"Draw a border around the image using the hints in the vector list.\"\"\"\n",
    "    draw = ImageDraw.Draw(image)\n",
    "\n",
    "    for block in blocks:\n",
    "        # upper left\n",
    "        try:\n",
    "            upper_left_x = block['vertices'][0]['x']\n",
    "        except KeyError:\n",
    "            upper_left_x = 0\n",
    "        try:\n",
    "            upper_left_y = block['vertices'][0]['y']\n",
    "        except KeyError:\n",
    "            upper_left_y = 0\n",
    "        # upper right\n",
    "        try:\n",
    "            upper_right_x = block['vertices'][1]['x']\n",
    "        except KeyError:\n",
    "            upper_right_x = 0\n",
    "        try:\n",
    "            upper_right_y = block['vertices'][1]['y']\n",
    "        except KeyError:\n",
    "            upper_right_y = 0\n",
    "\n",
    "        # lower right\n",
    "        try:\n",
    "            lower_right_x = block['vertices'][2]['x']\n",
    "        except KeyError:\n",
    "            lower_right_x = 0\n",
    "        try:\n",
    "            lower_right_y = block['vertices'][2]['y']\n",
    "        except KeyError:\n",
    "            lower_right_y = 0\n",
    "        # lower left\n",
    "        try:\n",
    "            lower_left_x = block['vertices'][3]['x']\n",
    "        except KeyError:\n",
    "            lower_left_x = 0\n",
    "        try:\n",
    "            lower_left_y = block['vertices'][3]['y']\n",
    "        except KeyError:\n",
    "            lower_left_y = 0\n",
    "\n",
    "        upper_left = (upper_left_x, upper_left_y)\n",
    "        upper_right = (upper_right_x, upper_right_y)\n",
    "        lower_right = (lower_right_x, lower_right_y)\n",
    "        lower_left = (lower_left_x, lower_left_y)\n",
    "        draw.polygon([upper_left, upper_right, lower_right, lower_left], None, color)\n",
    "    return image"
   ]
  },
  {
   "cell_type": "code",
   "execution_count": 63,
   "metadata": {
    "collapsed": true
   },
   "outputs": [],
   "source": [
    "def get_block_bounds(pages):    \n",
    "    bounds = []\n",
    "    for page in pages:\n",
    "        for block in page['blocks']:\n",
    "            bounds.append(block['boundingBox'])\n",
    "    return bounds\n",
    "\n",
    "def get_para_bounds(pages):    \n",
    "    bounds = []\n",
    "    for page in pages:\n",
    "        for block in page['blocks']:\n",
    "            for paragraph in block['paragraphs']:\n",
    "                bounds.append(paragraph['boundingBox'])\n",
    "    return bounds\n",
    "\n",
    "def get_word_bounds(pages):    \n",
    "    bounds = []\n",
    "    for page in pages:\n",
    "        for block in page['blocks']:\n",
    "            for paragraph in block['paragraphs']:\n",
    "                for word in paragraph['words']:\n",
    "                    bounds.append(word['boundingBox'])\n",
    "    return bounds"
   ]
  },
  {
   "cell_type": "code",
   "execution_count": 77,
   "metadata": {
    "collapsed": false
   },
   "outputs": [],
   "source": [
    "def render_doc_markup(pages, img_data_in, img_data_out):    \n",
    "    img = Image.open( StringIO(img_data_in.read_stream()) )\n",
    "\n",
    "    bounds = get_block_bounds(pages)\n",
    "    draw_boxes(img, bounds, 'blue')\n",
    "    \n",
    "    bounds = get_para_bounds(pages)\n",
    "    draw_boxes(img, bounds, 'green')\n",
    "\n",
    "    bounds = get_word_bounds(pages)\n",
    "    draw_boxes(img, bounds, 'orange')\n",
    "\n",
    "    in_mem_file = BytesIO()\n",
    "    img.save(in_mem_file, format = \"PNG\")\n",
    "    # reset file pointer to start\n",
    "    in_mem_file.seek(0)\n",
    "    img_bytes = in_mem_file.read()\n",
    "\n",
    "    base64_encoded_result_bytes = base64.b64encode(img_bytes)\n",
    "    img_data_out.write_stream(base64_encoded_result_bytes, 'image/png')"
   ]
  },
  {
   "cell_type": "code",
   "execution_count": 75,
   "metadata": {
    "collapsed": true
   },
   "outputs": [],
   "source": [
    "def render_doc_text(text, text_data_out):\n",
    "    text_data_out.write_stream(text.encode('ascii','ignore'), 'text/plain')"
   ]
  },
  {
   "cell_type": "code",
   "execution_count": 67,
   "metadata": {
    "collapsed": false
   },
   "outputs": [],
   "source": [
    "############################################################################################### \n",
    "#\n",
    "#  PROGRAM - Start document markup\n",
    "#\n",
    "############################################################################################### \n",
    "# select the storage bucket object you want\n",
    "images = list()\n",
    "my_bucket = storage.Bucket('machine-learning-backend-storagebucket')\n",
    "for obj in my_bucket.objects():\n",
    "    if obj.key.find(\"Oxygen\") > -1 and obj.key.find(\".txt\") == -1:\n",
    "        images.append(obj.key)"
   ]
  },
  {
   "cell_type": "code",
   "execution_count": 83,
   "metadata": {
    "collapsed": false
   },
   "outputs": [],
   "source": [
    "for image in images:\n",
    "    # create in and out names\n",
    "    filein, img_out, img_in, txt_out = return_file_names(image)\n",
    "\n",
    "    # open the input image file\n",
    "    img_data_in  = my_bucket.object(img_in)\n",
    "    img_data_out = my_bucket.object(img_out)\n",
    "    text_data_out = my_bucket.object(txt_out)\n",
    "\n",
    "    # call the API\n",
    "    pages, text = make_api_call(filein)\n",
    "\n",
    "    # render the document - comment out either of the following if desired\n",
    "    render_doc_text(text, text_data_out)\n",
    "    render_doc_markup(pages, img_data_in, img_data_out)"
   ]
  },
  {
   "cell_type": "code",
   "execution_count": null,
   "metadata": {
    "collapsed": true
   },
   "outputs": [],
   "source": [
    "############################################################################################### \n",
    "#\n",
    "#  NOTE - run this locally to view the images\n",
    "#\n",
    "############################################################################################### \n",
    "import base64\n",
    "\n",
    "with open(\"C:\\\\Users\\\\adpilz\\\\Pictures\\\\picturetester50.png\", \"rb\") as image_file:\n",
    "    with open(\"C:\\\\Users\\\\adpilz\\\\Pictures\\\\picturetester51.png\", 'wb') as f:\n",
    "        f.write(base64.b64decode(image_file.read()))"
   ]
  }
 ],
 "metadata": {
  "kernelspec": {
   "display_name": "Python 2",
   "language": "python",
   "name": "python2"
  },
  "language_info": {
   "codemirror_mode": {
    "name": "ipython",
    "version": 2
   },
   "file_extension": ".py",
   "mimetype": "text/x-python",
   "name": "python",
   "nbconvert_exporter": "python",
   "pygments_lexer": "ipython2",
   "version": "2.7.9"
  }
 },
 "nbformat": 4,
 "nbformat_minor": 2
}
